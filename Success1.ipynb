{
 "cells": [
  {
   "cell_type": "code",
   "execution_count": 1,
   "id": "6ba03b7e",
   "metadata": {},
   "outputs": [
    {
     "name": "stdout",
     "output_type": "stream",
     "text": [
      "Requirement already satisfied: openpyxl in c:\\users\\anamt\\anaconda3\\lib\\site-packages (3.1.5)\n",
      "Requirement already satisfied: et-xmlfile in c:\\users\\anamt\\anaconda3\\lib\\site-packages (from openpyxl) (1.1.0)\n",
      "Note: you may need to restart the kernel to use updated packages.\n"
     ]
    }
   ],
   "source": [
    "pip install --user --upgrade openpyxl"
   ]
  },
  {
   "cell_type": "code",
   "execution_count": 3,
   "id": "06a5fe34",
   "metadata": {},
   "outputs": [
    {
     "name": "stdout",
     "output_type": "stream",
     "text": [
      "Requirement already satisfied: bottleneck in c:\\users\\anamt\\anaconda3\\lib\\site-packages (1.4.2)\n",
      "Requirement already satisfied: numpy in c:\\users\\anamt\\anaconda3\\lib\\site-packages (from bottleneck) (1.23.5)\n",
      "Note: you may need to restart the kernel to use updated packages.\n"
     ]
    }
   ],
   "source": [
    "pip install --upgrade bottleneck"
   ]
  },
  {
   "cell_type": "code",
   "execution_count": 5,
   "id": "e5d47223",
   "metadata": {},
   "outputs": [
    {
     "name": "stdout",
     "output_type": "stream",
     "text": [
      "Mapping table saved to C:\\Users\\anamt\\OneDrive - Cal State Fullerton\\RA\\AI Food Project\\ImageDishMapping.csv\n"
     ]
    }
   ],
   "source": [
    "import os\n",
    "import pandas as pd\n",
    "\n",
    "# Path to the uploaded images and Excel file\n",
    "image_folder = r'C:\\Users\\anamt\\OneDrive - Cal State Fullerton\\RA\\AI Food Project\\Panda Express images'\n",
    "excel_file = r'C:\\Users\\anamt\\OneDrive - Cal State Fullerton\\RA\\AI Food Project\\PandaExpress.xlsx'\n",
    "\n",
    "# Load the Excel dataset\n",
    "data = pd.read_excel(excel_file, sheet_name='Sheet1')\n",
    "\n",
    "# Preprocess the Dish Name column\n",
    "data['Formatted Dish Name'] = data['Dish Name'].str.replace(' ', '_').str.strip().str.lower()\n",
    "\n",
    "# Create a mapping list\n",
    "mapping = []\n",
    "\n",
    "# Scan the image folder and parse filenames\n",
    "for file in os.listdir(image_folder):\n",
    "    if file.lower().endswith(('.png', '.jpg', '.jpeg', '.webp', '.gif')):\n",
    "        # Extract the dish name by removing the variant and extension\n",
    "        dish_name = os.path.splitext(file)[0].rsplit('_', 1)[0].lower()  # Remove last '_<Variant>'\n",
    "        \n",
    "        # Exact match with the Excel data\n",
    "        dish_row = data[data['Formatted Dish Name'] == dish_name]\n",
    "        \n",
    "        # If no exact match, attempt partial matching\n",
    "        if dish_row.empty:\n",
    "            dish_row = data[data['Formatted Dish Name'].str.contains(dish_name)]\n",
    "        \n",
    "        # Append to the mapping if matched\n",
    "        if not dish_row.empty:\n",
    "            mapping.append({\n",
    "                'Image Filename': file,\n",
    "                'Dish Name': dish_row.iloc[0]['Dish Name'],\n",
    "                'Calories': dish_row.iloc[0]['Calories'],\n",
    "                'Category': dish_row.iloc[0]['Category']\n",
    "            })\n",
    "        else:\n",
    "            print(f\"No match found for: {file} (Parsed dish name: {dish_name})\")\n",
    "\n",
    "# Create a DataFrame from the mapping\n",
    "mapping_df = pd.DataFrame(mapping)\n",
    "\n",
    "# Save the mapping table to a CSV file\n",
    "mapping_csv_path = r'C:\\Users\\anamt\\OneDrive - Cal State Fullerton\\RA\\AI Food Project\\ImageDishMapping.csv'\n",
    "mapping_df.to_csv(mapping_csv_path, index=False)\n",
    "\n",
    "print(f\"Mapping table saved to {mapping_csv_path}\")"
   ]
  },
  {
   "cell_type": "code",
   "execution_count": 6,
   "id": "59903498",
   "metadata": {},
   "outputs": [
    {
     "name": "stdout",
     "output_type": "stream",
     "text": [
      "Found 25 images belonging to 5 classes.\n",
      "Found 9 images belonging to 5 classes.\n",
      "Downloading data from https://storage.googleapis.com/tensorflow/keras-applications/mobilenet_v2/mobilenet_v2_weights_tf_dim_ordering_tf_kernels_1.0_224_no_top.h5\n",
      "\u001b[1m9406464/9406464\u001b[0m \u001b[32m━━━━━━━━━━━━━━━━━━━━\u001b[0m\u001b[37m\u001b[0m \u001b[1m1s\u001b[0m 0us/step\n"
     ]
    },
    {
     "name": "stderr",
     "output_type": "stream",
     "text": [
      "C:\\Users\\anamt\\AppData\\Roaming\\Python\\Python311\\site-packages\\keras\\src\\trainers\\data_adapters\\py_dataset_adapter.py:121: UserWarning: Your `PyDataset` class should call `super().__init__(**kwargs)` in its constructor. `**kwargs` can include `workers`, `use_multiprocessing`, `max_queue_size`. Do not pass these arguments to `fit()`, as they will be ignored.\n",
      "  self._warn_if_super_not_called()\n"
     ]
    },
    {
     "name": "stdout",
     "output_type": "stream",
     "text": [
      "Epoch 1/10\n",
      "\u001b[1m1/1\u001b[0m \u001b[32m━━━━━━━━━━━━━━━━━━━━\u001b[0m\u001b[37m\u001b[0m \u001b[1m8s\u001b[0m 8s/step - accuracy: 0.1200 - loss: 2.0487 - val_accuracy: 0.5556 - val_loss: 1.5736\n",
      "Epoch 2/10\n",
      "\u001b[1m1/1\u001b[0m \u001b[32m━━━━━━━━━━━━━━━━━━━━\u001b[0m\u001b[37m\u001b[0m \u001b[1m1s\u001b[0m 1s/step - accuracy: 0.3600 - loss: 1.5882 - val_accuracy: 0.5556 - val_loss: 1.3609\n",
      "Epoch 3/10\n",
      "\u001b[1m1/1\u001b[0m \u001b[32m━━━━━━━━━━━━━━━━━━━━\u001b[0m\u001b[37m\u001b[0m \u001b[1m1s\u001b[0m 1s/step - accuracy: 0.5600 - loss: 1.1763 - val_accuracy: 0.6667 - val_loss: 1.1588\n",
      "Epoch 4/10\n",
      "\u001b[1m1/1\u001b[0m \u001b[32m━━━━━━━━━━━━━━━━━━━━\u001b[0m\u001b[37m\u001b[0m \u001b[1m1s\u001b[0m 1s/step - accuracy: 0.7600 - loss: 0.7954 - val_accuracy: 0.7778 - val_loss: 1.0321\n",
      "Epoch 5/10\n",
      "\u001b[1m1/1\u001b[0m \u001b[32m━━━━━━━━━━━━━━━━━━━━\u001b[0m\u001b[37m\u001b[0m \u001b[1m1s\u001b[0m 1s/step - accuracy: 0.8000 - loss: 0.7199 - val_accuracy: 0.7778 - val_loss: 0.9269\n",
      "Epoch 6/10\n",
      "\u001b[1m1/1\u001b[0m \u001b[32m━━━━━━━━━━━━━━━━━━━━\u001b[0m\u001b[37m\u001b[0m \u001b[1m1s\u001b[0m 1s/step - accuracy: 0.8000 - loss: 0.7487 - val_accuracy: 0.7778 - val_loss: 0.8019\n",
      "Epoch 7/10\n",
      "\u001b[1m1/1\u001b[0m \u001b[32m━━━━━━━━━━━━━━━━━━━━\u001b[0m\u001b[37m\u001b[0m \u001b[1m1s\u001b[0m 1s/step - accuracy: 0.8800 - loss: 0.4155 - val_accuracy: 0.7778 - val_loss: 0.6806\n",
      "Epoch 8/10\n",
      "\u001b[1m1/1\u001b[0m \u001b[32m━━━━━━━━━━━━━━━━━━━━\u001b[0m\u001b[37m\u001b[0m \u001b[1m1s\u001b[0m 1s/step - accuracy: 0.8400 - loss: 0.4866 - val_accuracy: 0.7778 - val_loss: 0.5612\n",
      "Epoch 9/10\n",
      "\u001b[1m1/1\u001b[0m \u001b[32m━━━━━━━━━━━━━━━━━━━━\u001b[0m\u001b[37m\u001b[0m \u001b[1m1s\u001b[0m 1s/step - accuracy: 0.9600 - loss: 0.2212 - val_accuracy: 0.6667 - val_loss: 0.4613\n",
      "Epoch 10/10\n",
      "\u001b[1m1/1\u001b[0m \u001b[32m━━━━━━━━━━━━━━━━━━━━\u001b[0m\u001b[37m\u001b[0m \u001b[1m1s\u001b[0m 1s/step - accuracy: 0.9600 - loss: 0.2508 - val_accuracy: 0.8889 - val_loss: 0.3860\n"
     ]
    },
    {
     "name": "stderr",
     "output_type": "stream",
     "text": [
      "WARNING:absl:You are saving your model as an HDF5 file via `model.save()` or `keras.saving.save_model(model)`. This file format is considered legacy. We recommend using instead the native Keras format, e.g. `model.save('my_model.keras')` or `keras.saving.save_model(model, 'my_model.keras')`. \n"
     ]
    }
   ],
   "source": [
    "import tensorflow as tf\n",
    "from tensorflow.keras.applications import MobileNetV2\n",
    "from tensorflow.keras.preprocessing.image import ImageDataGenerator\n",
    "from tensorflow.keras import layers, models\n",
    "\n",
    "# Paths to training and validation data\n",
    "train_dir = r'C:\\Users\\anamt\\OneDrive - Cal State Fullerton\\RA\\AI Food Project\\data\\train'\n",
    "validation_dir = r'C:\\Users\\anamt\\OneDrive - Cal State Fullerton\\RA\\AI Food Project\\data\\validation'\n",
    "\n",
    "# Data augmentation\n",
    "train_datagen = ImageDataGenerator(rescale=1./255, rotation_range=30, zoom_range=0.2, horizontal_flip=True)\n",
    "validation_datagen = ImageDataGenerator(rescale=1./255)\n",
    "\n",
    "train_generator = train_datagen.flow_from_directory(\n",
    "    train_dir, target_size=(224, 224), batch_size=32, class_mode='categorical')\n",
    "\n",
    "validation_generator = validation_datagen.flow_from_directory(\n",
    "    validation_dir, target_size=(224, 224), batch_size=32, class_mode='categorical')\n",
    "\n",
    "# Load MobileNetV2 model\n",
    "base_model = MobileNetV2(weights='imagenet', include_top=False, input_shape=(224, 224, 3))\n",
    "base_model.trainable = False  # Freeze the base model\n",
    "\n",
    "# Add custom classification head\n",
    "model = models.Sequential([\n",
    "    base_model,\n",
    "    layers.GlobalAveragePooling2D(),\n",
    "    layers.Dense(128, activation='relu'),\n",
    "    layers.Dropout(0.5),\n",
    "    layers.Dense(train_generator.num_classes, activation='softmax')  # Number of classes\n",
    "])\n",
    "\n",
    "model.compile(optimizer='adam', loss='categorical_crossentropy', metrics=['accuracy'])\n",
    "\n",
    "# Train the model\n",
    "history = model.fit(train_generator, validation_data=validation_generator, epochs=10)\n",
    "\n",
    "# Save the fine-tuned model\n",
    "model.save('pretrained_panda_express_model.h5')"
   ]
  },
  {
   "cell_type": "code",
   "execution_count": 8,
   "id": "2b23a550",
   "metadata": {},
   "outputs": [
    {
     "name": "stderr",
     "output_type": "stream",
     "text": [
      "WARNING:absl:Compiled the loaded model, but the compiled metrics have yet to be built. `model.compile_metrics` will be empty until you train or evaluate the model.\n"
     ]
    },
    {
     "name": "stdout",
     "output_type": "stream",
     "text": [
      "\u001b[1m1/1\u001b[0m \u001b[32m━━━━━━━━━━━━━━━━━━━━\u001b[0m\u001b[37m\u001b[0m \u001b[1m1s\u001b[0m 1s/step\n",
      "Predicted dish: Super_Greens with confidence 0.89\n"
     ]
    }
   ],
   "source": [
    "from tensorflow.keras.preprocessing import image\n",
    "import numpy as np\n",
    "\n",
    "model = tf.keras.models.load_model('pretrained_panda_express_model.h5')\n",
    "\n",
    "# def predict_dish(image_path):\n",
    "#     img = image.load_img(image_path, target_size=(224, 224))\n",
    "#     img_array = image.img_to_array(img) / 255.0\n",
    "#     img_array = np.expand_dims(img_array, axis=0)\n",
    "\n",
    "#     prediction = model.predict(img_array)\n",
    "#     class_idx = np.argmax(prediction)\n",
    "#     return train_generator.class_indices, class_idx\n",
    "\n",
    "def predict_dish(image_path):\n",
    "    img = image.load_img(image_path, target_size=(224, 224))\n",
    "    img_array = image.img_to_array(img) / 255.0\n",
    "    img_array = np.expand_dims(img_array, axis=0)\n",
    "\n",
    "    prediction = model.predict(img_array)\n",
    "    class_idx = np.argmax(prediction)\n",
    "    class_labels = {v: k for k, v in train_generator.class_indices.items()}\n",
    "    return class_labels[class_idx], prediction[0][class_idx]\n",
    "\n",
    "# Example usage:\n",
    "dish_name, confidence = predict_dish(r'C:\\Users\\anamt\\OneDrive - Cal State Fullerton\\RA\\AI Food Project\\Menu Photos\\Panda Express\\test0.jpg')\n",
    "print(f\"Predicted dish: {dish_name} with confidence {confidence:.2f}\")\n",
    "\n",
    "\n",
    "# print(predict_dish(r'C:\\Users\\anamt\\OneDrive - Cal State Fullerton\\RA\\AI Food Project\\Menu Photos\\Panda Express\\test0.jpg'))"
   ]
  }
 ],
 "metadata": {
  "kernelspec": {
   "display_name": "Python 3 (ipykernel)",
   "language": "python",
   "name": "python3"
  },
  "language_info": {
   "codemirror_mode": {
    "name": "ipython",
    "version": 3
   },
   "file_extension": ".py",
   "mimetype": "text/x-python",
   "name": "python",
   "nbconvert_exporter": "python",
   "pygments_lexer": "ipython3",
   "version": "3.11.5"
  }
 },
 "nbformat": 4,
 "nbformat_minor": 5
}
